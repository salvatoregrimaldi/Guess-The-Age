{
  "cells": [
    {
      "cell_type": "code",
      "execution_count": null,
      "metadata": {
        "id": "BgPxqHDDzAWO"
      },
      "outputs": [],
      "source": [
        "# Use it as a standard Linux console, by prepending ! to the commands.\n",
        "\n",
        "# Create and activate a new conda environment with python version 3.9.15\n",
        "!yes | conda create -n T7_final python=3.9.15\n",
        "!conda activate T7_final\n",
        "\n",
        "# Install all the requirements\n",
        "!python3 -m pip install -r requirements.txt"
      ]
    },
    {
      "cell_type": "code",
      "execution_count": null,
      "metadata": {
        "id": "wCXe0aax0eGJ"
      },
      "outputs": [],
      "source": [
        "# Run the test\n",
        "# --data is the file with the annotations. Use the provided foo_test.csv to check if your code works.\n",
        "# --images is the path of the folder with the images listed in --data. Use the provided foo_test/ to check if your code works.\n",
        "# --results is the file on which the predictions of your model should be written. A sample foo_results.csv is provided.\n",
        "\n",
        "!python3 test.py --data foo_test.csv --images foo_test/ --results foo_results.csv"
      ]
    }
  ],
  "metadata": {
    "accelerator": "GPU",
    "colab": {
      "provenance": []
    },
    "gpuClass": "standard",
    "kernelspec": {
      "display_name": "Python 3",
      "name": "python3"
    },
    "language_info": {
      "name": "python"
    }
  },
  "nbformat": 4,
  "nbformat_minor": 0
}
